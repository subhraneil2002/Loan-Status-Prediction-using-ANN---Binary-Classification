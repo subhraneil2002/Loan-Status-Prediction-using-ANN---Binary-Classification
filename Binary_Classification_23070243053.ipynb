{
 "cells": [
  {
   "cell_type": "markdown",
   "id": "943e0123",
   "metadata": {},
   "source": [
    "<div style=\"display: flex; justify-content: center; align-items: center; height: 150px; background-color: #f3f4f6; border: 2px solid #4CAF50; border-radius: 10px; padding: 10px; text-align: center; box-shadow: 0px 0px 10px rgba(0, 0, 0, 0.1);\">\n",
    "    <div style=\"text-align: center;\">\n",
    "        <h1 style=\"color: #4CAF50; margin: 10px; font-size: 2.5em;\">Assignment | Deep Learning</h1>\n",
    "    </div>\n",
    "    <div style=\"text-align: left; margin-left: 20px;\">\n",
    "        <h3 style=\"color: #333; margin: 10px 0 0;\">Name: Subhraneil Das</h3>\n",
    "        <h3 style=\"color: #333; margin: 5px 0 0;\">PRN: 23070243053</h3>\n",
    "    </div>\n",
    "</div>"
   ]
  },
  {
   "cell_type": "markdown",
   "id": "50c74732",
   "metadata": {},
   "source": [
    "## Loan Status Prediction\n",
    "This project focuses on predicting the status of loan applications (approved or rejected) using Deep Neural Networks (DNN). By leveraging machine learning techniques and a dataset of loan applicants, the model identifies key patterns and relationships between applicant features and loan outcomes. The objective is to assist financial institutions in making faster, data-driven decisions for loan approval processes."
   ]
  },
  {
   "cell_type": "markdown",
   "id": "a5af229f",
   "metadata": {},
   "source": [
    "Dataset Link: https://www.kaggle.com/datasets/taweilo/loan-approval-classification-data"
   ]
  },
  {
   "cell_type": "markdown",
   "id": "a7e3cb46",
   "metadata": {},
   "source": [
    "Importing the libraries"
   ]
  },
  {
   "cell_type": "code",
   "execution_count": 1,
   "id": "9c5470b7",
   "metadata": {},
   "outputs": [
    {
     "name": "stdout",
     "output_type": "stream",
     "text": [
      "WARNING:tensorflow:From C:\\Users\\admin\\anaconda3\\Lib\\site-packages\\keras\\src\\losses.py:2976: The name tf.losses.sparse_softmax_cross_entropy is deprecated. Please use tf.compat.v1.losses.sparse_softmax_cross_entropy instead.\n",
      "\n"
     ]
    }
   ],
   "source": [
    "import pandas as pd\n",
    "import numpy as np\n",
    "from sklearn.model_selection import train_test_split\n",
    "from sklearn.preprocessing import StandardScaler, LabelEncoder, OneHotEncoder\n",
    "from tensorflow.keras.models import Sequential\n",
    "from tensorflow.keras.layers import Dense, Dropout\n",
    "from tensorflow.keras.utils import to_categorical"
   ]
  },
  {
   "cell_type": "markdown",
   "id": "3b7e3699",
   "metadata": {},
   "source": [
    "Reading the data"
   ]
  },
  {
   "cell_type": "code",
   "execution_count": 2,
   "id": "185e6fde",
   "metadata": {},
   "outputs": [
    {
     "data": {
      "text/html": [
       "<div>\n",
       "<style scoped>\n",
       "    .dataframe tbody tr th:only-of-type {\n",
       "        vertical-align: middle;\n",
       "    }\n",
       "\n",
       "    .dataframe tbody tr th {\n",
       "        vertical-align: top;\n",
       "    }\n",
       "\n",
       "    .dataframe thead th {\n",
       "        text-align: right;\n",
       "    }\n",
       "</style>\n",
       "<table border=\"1\" class=\"dataframe\">\n",
       "  <thead>\n",
       "    <tr style=\"text-align: right;\">\n",
       "      <th></th>\n",
       "      <th>person_age</th>\n",
       "      <th>person_gender</th>\n",
       "      <th>person_education</th>\n",
       "      <th>person_income</th>\n",
       "      <th>person_emp_exp</th>\n",
       "      <th>person_home_ownership</th>\n",
       "      <th>loan_amnt</th>\n",
       "      <th>loan_intent</th>\n",
       "      <th>loan_int_rate</th>\n",
       "      <th>loan_percent_income</th>\n",
       "      <th>cb_person_cred_hist_length</th>\n",
       "      <th>credit_score</th>\n",
       "      <th>previous_loan_defaults_on_file</th>\n",
       "      <th>loan_status</th>\n",
       "    </tr>\n",
       "  </thead>\n",
       "  <tbody>\n",
       "    <tr>\n",
       "      <th>0</th>\n",
       "      <td>22.0</td>\n",
       "      <td>female</td>\n",
       "      <td>Master</td>\n",
       "      <td>71948.0</td>\n",
       "      <td>0</td>\n",
       "      <td>RENT</td>\n",
       "      <td>35000.0</td>\n",
       "      <td>PERSONAL</td>\n",
       "      <td>16.02</td>\n",
       "      <td>0.49</td>\n",
       "      <td>3.0</td>\n",
       "      <td>561</td>\n",
       "      <td>No</td>\n",
       "      <td>1</td>\n",
       "    </tr>\n",
       "    <tr>\n",
       "      <th>1</th>\n",
       "      <td>21.0</td>\n",
       "      <td>female</td>\n",
       "      <td>High School</td>\n",
       "      <td>12282.0</td>\n",
       "      <td>0</td>\n",
       "      <td>OWN</td>\n",
       "      <td>1000.0</td>\n",
       "      <td>EDUCATION</td>\n",
       "      <td>11.14</td>\n",
       "      <td>0.08</td>\n",
       "      <td>2.0</td>\n",
       "      <td>504</td>\n",
       "      <td>Yes</td>\n",
       "      <td>0</td>\n",
       "    </tr>\n",
       "    <tr>\n",
       "      <th>2</th>\n",
       "      <td>25.0</td>\n",
       "      <td>female</td>\n",
       "      <td>High School</td>\n",
       "      <td>12438.0</td>\n",
       "      <td>3</td>\n",
       "      <td>MORTGAGE</td>\n",
       "      <td>5500.0</td>\n",
       "      <td>MEDICAL</td>\n",
       "      <td>12.87</td>\n",
       "      <td>0.44</td>\n",
       "      <td>3.0</td>\n",
       "      <td>635</td>\n",
       "      <td>No</td>\n",
       "      <td>1</td>\n",
       "    </tr>\n",
       "    <tr>\n",
       "      <th>3</th>\n",
       "      <td>23.0</td>\n",
       "      <td>female</td>\n",
       "      <td>Bachelor</td>\n",
       "      <td>79753.0</td>\n",
       "      <td>0</td>\n",
       "      <td>RENT</td>\n",
       "      <td>35000.0</td>\n",
       "      <td>MEDICAL</td>\n",
       "      <td>15.23</td>\n",
       "      <td>0.44</td>\n",
       "      <td>2.0</td>\n",
       "      <td>675</td>\n",
       "      <td>No</td>\n",
       "      <td>1</td>\n",
       "    </tr>\n",
       "    <tr>\n",
       "      <th>4</th>\n",
       "      <td>24.0</td>\n",
       "      <td>male</td>\n",
       "      <td>Master</td>\n",
       "      <td>66135.0</td>\n",
       "      <td>1</td>\n",
       "      <td>RENT</td>\n",
       "      <td>35000.0</td>\n",
       "      <td>MEDICAL</td>\n",
       "      <td>14.27</td>\n",
       "      <td>0.53</td>\n",
       "      <td>4.0</td>\n",
       "      <td>586</td>\n",
       "      <td>No</td>\n",
       "      <td>1</td>\n",
       "    </tr>\n",
       "  </tbody>\n",
       "</table>\n",
       "</div>"
      ],
      "text/plain": [
       "   person_age person_gender person_education  person_income  person_emp_exp  \\\n",
       "0        22.0        female           Master        71948.0               0   \n",
       "1        21.0        female      High School        12282.0               0   \n",
       "2        25.0        female      High School        12438.0               3   \n",
       "3        23.0        female         Bachelor        79753.0               0   \n",
       "4        24.0          male           Master        66135.0               1   \n",
       "\n",
       "  person_home_ownership  loan_amnt loan_intent  loan_int_rate  \\\n",
       "0                  RENT    35000.0    PERSONAL          16.02   \n",
       "1                   OWN     1000.0   EDUCATION          11.14   \n",
       "2              MORTGAGE     5500.0     MEDICAL          12.87   \n",
       "3                  RENT    35000.0     MEDICAL          15.23   \n",
       "4                  RENT    35000.0     MEDICAL          14.27   \n",
       "\n",
       "   loan_percent_income  cb_person_cred_hist_length  credit_score  \\\n",
       "0                 0.49                         3.0           561   \n",
       "1                 0.08                         2.0           504   \n",
       "2                 0.44                         3.0           635   \n",
       "3                 0.44                         2.0           675   \n",
       "4                 0.53                         4.0           586   \n",
       "\n",
       "  previous_loan_defaults_on_file  loan_status  \n",
       "0                             No            1  \n",
       "1                            Yes            0  \n",
       "2                             No            1  \n",
       "3                             No            1  \n",
       "4                             No            1  "
      ]
     },
     "execution_count": 2,
     "metadata": {},
     "output_type": "execute_result"
    }
   ],
   "source": [
    "data = pd.read_csv(r\"C:\\Users\\admin\\Downloads\\loan_data.csv\")\n",
    "\n",
    "data.head()"
   ]
  },
  {
   "cell_type": "code",
   "execution_count": 3,
   "id": "038812b2",
   "metadata": {},
   "outputs": [
    {
     "data": {
      "text/plain": [
       "(45000, 14)"
      ]
     },
     "execution_count": 3,
     "metadata": {},
     "output_type": "execute_result"
    }
   ],
   "source": [
    "data.shape"
   ]
  },
  {
   "cell_type": "code",
   "execution_count": 4,
   "id": "d7e4c36d",
   "metadata": {},
   "outputs": [
    {
     "data": {
      "text/plain": [
       "Index(['person_age', 'person_gender', 'person_education', 'person_income',\n",
       "       'person_emp_exp', 'person_home_ownership', 'loan_amnt', 'loan_intent',\n",
       "       'loan_int_rate', 'loan_percent_income', 'cb_person_cred_hist_length',\n",
       "       'credit_score', 'previous_loan_defaults_on_file', 'loan_status'],\n",
       "      dtype='object')"
      ]
     },
     "execution_count": 4,
     "metadata": {},
     "output_type": "execute_result"
    }
   ],
   "source": [
    "data.columns"
   ]
  },
  {
   "cell_type": "code",
   "execution_count": 5,
   "id": "c7af5d2e",
   "metadata": {},
   "outputs": [
    {
     "data": {
      "text/plain": [
       "person_age                        float64\n",
       "person_gender                      object\n",
       "person_education                   object\n",
       "person_income                     float64\n",
       "person_emp_exp                      int64\n",
       "person_home_ownership              object\n",
       "loan_amnt                         float64\n",
       "loan_intent                        object\n",
       "loan_int_rate                     float64\n",
       "loan_percent_income               float64\n",
       "cb_person_cred_hist_length        float64\n",
       "credit_score                        int64\n",
       "previous_loan_defaults_on_file     object\n",
       "loan_status                         int64\n",
       "dtype: object"
      ]
     },
     "execution_count": 5,
     "metadata": {},
     "output_type": "execute_result"
    }
   ],
   "source": [
    "data.dtypes"
   ]
  },
  {
   "cell_type": "markdown",
   "id": "90a06135",
   "metadata": {},
   "source": [
    "Checking for null values"
   ]
  },
  {
   "cell_type": "code",
   "execution_count": 6,
   "id": "b923c4a0",
   "metadata": {},
   "outputs": [
    {
     "data": {
      "text/plain": [
       "person_age                        0\n",
       "person_gender                     0\n",
       "person_education                  0\n",
       "person_income                     0\n",
       "person_emp_exp                    0\n",
       "person_home_ownership             0\n",
       "loan_amnt                         0\n",
       "loan_intent                       0\n",
       "loan_int_rate                     0\n",
       "loan_percent_income               0\n",
       "cb_person_cred_hist_length        0\n",
       "credit_score                      0\n",
       "previous_loan_defaults_on_file    0\n",
       "loan_status                       0\n",
       "dtype: int64"
      ]
     },
     "execution_count": 6,
     "metadata": {},
     "output_type": "execute_result"
    }
   ],
   "source": [
    "data.isnull().sum()"
   ]
  },
  {
   "cell_type": "markdown",
   "id": "2216df7a",
   "metadata": {},
   "source": [
    "Encoding Categorical Variables"
   ]
  },
  {
   "cell_type": "code",
   "execution_count": 7,
   "id": "79aaeb15",
   "metadata": {},
   "outputs": [],
   "source": [
    "# Encode categorical variables\n",
    "label_encoders = {}\n",
    "for col in ['person_gender', 'person_education', 'person_home_ownership', 'loan_intent', 'previous_loan_defaults_on_file']:\n",
    "    le = LabelEncoder()\n",
    "    data[col] = le.fit_transform(data[col])\n",
    "    label_encoders[col] = le\n",
    "\n",
    "# Separate features and target\n",
    "X = data.drop('loan_status', axis=1)\n",
    "y = data['loan_status']\n",
    "\n",
    "# Scale numerical features\n",
    "scaler = StandardScaler()\n",
    "X_scaled = scaler.fit_transform(X)\n",
    "\n",
    "# Split the dataset\n",
    "X_train, X_test, y_train, y_test = train_test_split(X_scaled, y, test_size=0.2, random_state=42)"
   ]
  },
  {
   "cell_type": "markdown",
   "id": "7fbaa4f9",
   "metadata": {},
   "source": [
    "Model Building"
   ]
  },
  {
   "cell_type": "code",
   "execution_count": 8,
   "id": "c204825f",
   "metadata": {},
   "outputs": [
    {
     "name": "stdout",
     "output_type": "stream",
     "text": [
      "WARNING:tensorflow:From C:\\Users\\admin\\anaconda3\\Lib\\site-packages\\keras\\src\\backend.py:873: The name tf.get_default_graph is deprecated. Please use tf.compat.v1.get_default_graph instead.\n",
      "\n",
      "WARNING:tensorflow:From C:\\Users\\admin\\anaconda3\\Lib\\site-packages\\keras\\src\\optimizers\\__init__.py:309: The name tf.train.Optimizer is deprecated. Please use tf.compat.v1.train.Optimizer instead.\n",
      "\n",
      "Model: \"sequential\"\n",
      "_________________________________________________________________\n",
      " Layer (type)                Output Shape              Param #   \n",
      "=================================================================\n",
      " dense (Dense)               (None, 64)                896       \n",
      "                                                                 \n",
      " dropout (Dropout)           (None, 64)                0         \n",
      "                                                                 \n",
      " dense_1 (Dense)             (None, 32)                2080      \n",
      "                                                                 \n",
      " dropout_1 (Dropout)         (None, 32)                0         \n",
      "                                                                 \n",
      " dense_2 (Dense)             (None, 1)                 33        \n",
      "                                                                 \n",
      "=================================================================\n",
      "Total params: 3009 (11.75 KB)\n",
      "Trainable params: 3009 (11.75 KB)\n",
      "Non-trainable params: 0 (0.00 Byte)\n",
      "_________________________________________________________________\n"
     ]
    }
   ],
   "source": [
    "# Step 2: Build the ANN model\n",
    "model = Sequential([\n",
    "    Dense(64, input_dim=X_train.shape[1], activation='relu'),\n",
    "    Dropout(0.2),\n",
    "    Dense(32, activation='relu'),\n",
    "    Dropout(0.2),\n",
    "    Dense(1, activation='sigmoid')  # Output layer for binary classification\n",
    "])\n",
    "\n",
    "model.compile(optimizer='adam', loss='binary_crossentropy', metrics=['accuracy'])\n",
    "\n",
    "model.summary()"
   ]
  },
  {
   "cell_type": "markdown",
   "id": "8a20b3c8",
   "metadata": {},
   "source": [
    "Using Early-Stopping to prevent overfitting"
   ]
  },
  {
   "cell_type": "code",
   "execution_count": 9,
   "id": "ccad78bc",
   "metadata": {},
   "outputs": [],
   "source": [
    "from tensorflow.keras.callbacks import EarlyStopping"
   ]
  },
  {
   "cell_type": "code",
   "execution_count": 10,
   "id": "182c85aa",
   "metadata": {},
   "outputs": [],
   "source": [
    "# Step 3: Training the model\n",
    "early_stopping = EarlyStopping(monitor='val_loss', patience=10, restore_best_weights=True)"
   ]
  },
  {
   "cell_type": "markdown",
   "id": "a1cb210c",
   "metadata": {},
   "source": [
    "Fitting the model"
   ]
  },
  {
   "cell_type": "code",
   "execution_count": 11,
   "id": "957af364",
   "metadata": {},
   "outputs": [
    {
     "name": "stdout",
     "output_type": "stream",
     "text": [
      "Epoch 1/50\n",
      "WARNING:tensorflow:From C:\\Users\\admin\\anaconda3\\Lib\\site-packages\\keras\\src\\utils\\tf_utils.py:492: The name tf.ragged.RaggedTensorValue is deprecated. Please use tf.compat.v1.ragged.RaggedTensorValue instead.\n",
      "\n",
      "WARNING:tensorflow:From C:\\Users\\admin\\anaconda3\\Lib\\site-packages\\keras\\src\\engine\\base_layer_utils.py:384: The name tf.executing_eagerly_outside_functions is deprecated. Please use tf.compat.v1.executing_eagerly_outside_functions instead.\n",
      "\n",
      "1800/1800 [==============================] - 13s 5ms/step - loss: 0.2709 - accuracy: 0.8742 - val_loss: 0.2190 - val_accuracy: 0.8983\n",
      "Epoch 2/50\n",
      "1800/1800 [==============================] - 8s 5ms/step - loss: 0.2267 - accuracy: 0.8969 - val_loss: 0.2127 - val_accuracy: 0.9017\n",
      "Epoch 3/50\n",
      "1800/1800 [==============================] - 8s 4ms/step - loss: 0.2197 - accuracy: 0.9007 - val_loss: 0.2068 - val_accuracy: 0.9040\n",
      "Epoch 4/50\n",
      "1800/1800 [==============================] - 8s 5ms/step - loss: 0.2144 - accuracy: 0.9025 - val_loss: 0.2052 - val_accuracy: 0.9047\n",
      "Epoch 5/50\n",
      "1800/1800 [==============================] - 9s 5ms/step - loss: 0.2113 - accuracy: 0.9031 - val_loss: 0.2032 - val_accuracy: 0.9044\n",
      "Epoch 6/50\n",
      "1800/1800 [==============================] - 8s 5ms/step - loss: 0.2090 - accuracy: 0.9051 - val_loss: 0.2003 - val_accuracy: 0.9051\n",
      "Epoch 7/50\n",
      "1800/1800 [==============================] - 8s 5ms/step - loss: 0.2047 - accuracy: 0.9060 - val_loss: 0.2003 - val_accuracy: 0.9082\n",
      "Epoch 8/50\n",
      "1800/1800 [==============================] - 8s 4ms/step - loss: 0.2016 - accuracy: 0.9084 - val_loss: 0.1957 - val_accuracy: 0.9092\n",
      "Epoch 9/50\n",
      "1800/1800 [==============================] - 8s 5ms/step - loss: 0.2007 - accuracy: 0.9080 - val_loss: 0.1944 - val_accuracy: 0.9097\n",
      "Epoch 10/50\n",
      "1800/1800 [==============================] - 8s 4ms/step - loss: 0.1999 - accuracy: 0.9084 - val_loss: 0.1942 - val_accuracy: 0.9103\n",
      "Epoch 11/50\n",
      "1800/1800 [==============================] - 8s 4ms/step - loss: 0.1994 - accuracy: 0.9101 - val_loss: 0.1945 - val_accuracy: 0.9129\n",
      "Epoch 12/50\n",
      "1800/1800 [==============================] - 8s 4ms/step - loss: 0.1970 - accuracy: 0.9095 - val_loss: 0.1933 - val_accuracy: 0.9108\n",
      "Epoch 13/50\n",
      "1800/1800 [==============================] - 8s 5ms/step - loss: 0.1971 - accuracy: 0.9104 - val_loss: 0.1934 - val_accuracy: 0.9125\n",
      "Epoch 14/50\n",
      "1800/1800 [==============================] - 8s 4ms/step - loss: 0.1952 - accuracy: 0.9106 - val_loss: 0.1916 - val_accuracy: 0.9146\n",
      "Epoch 15/50\n",
      "1800/1800 [==============================] - 8s 4ms/step - loss: 0.1934 - accuracy: 0.9126 - val_loss: 0.1894 - val_accuracy: 0.9117\n",
      "Epoch 16/50\n",
      "1800/1800 [==============================] - 8s 4ms/step - loss: 0.1935 - accuracy: 0.9124 - val_loss: 0.1909 - val_accuracy: 0.9114\n",
      "Epoch 17/50\n",
      "1800/1800 [==============================] - 8s 4ms/step - loss: 0.1932 - accuracy: 0.9123 - val_loss: 0.1890 - val_accuracy: 0.9137\n",
      "Epoch 18/50\n",
      "1800/1800 [==============================] - 8s 4ms/step - loss: 0.1922 - accuracy: 0.9141 - val_loss: 0.1879 - val_accuracy: 0.9126\n",
      "Epoch 19/50\n",
      "1800/1800 [==============================] - 8s 4ms/step - loss: 0.1935 - accuracy: 0.9130 - val_loss: 0.1905 - val_accuracy: 0.9117\n",
      "Epoch 20/50\n",
      "1800/1800 [==============================] - 8s 4ms/step - loss: 0.1918 - accuracy: 0.9132 - val_loss: 0.1912 - val_accuracy: 0.9117\n",
      "Epoch 21/50\n",
      "1800/1800 [==============================] - 8s 4ms/step - loss: 0.1910 - accuracy: 0.9124 - val_loss: 0.1880 - val_accuracy: 0.9122\n",
      "Epoch 22/50\n",
      "1800/1800 [==============================] - 8s 4ms/step - loss: 0.1899 - accuracy: 0.9125 - val_loss: 0.1868 - val_accuracy: 0.9128\n",
      "Epoch 23/50\n",
      "1800/1800 [==============================] - 8s 4ms/step - loss: 0.1913 - accuracy: 0.9139 - val_loss: 0.1892 - val_accuracy: 0.9129\n",
      "Epoch 24/50\n",
      "1800/1800 [==============================] - 8s 4ms/step - loss: 0.1900 - accuracy: 0.9122 - val_loss: 0.1885 - val_accuracy: 0.9143\n",
      "Epoch 25/50\n",
      "1800/1800 [==============================] - 8s 4ms/step - loss: 0.1895 - accuracy: 0.9144 - val_loss: 0.1886 - val_accuracy: 0.9137\n",
      "Epoch 26/50\n",
      "1800/1800 [==============================] - 8s 4ms/step - loss: 0.1905 - accuracy: 0.9135 - val_loss: 0.1894 - val_accuracy: 0.9154\n",
      "Epoch 27/50\n",
      "1800/1800 [==============================] - 8s 4ms/step - loss: 0.1885 - accuracy: 0.9142 - val_loss: 0.1851 - val_accuracy: 0.9153\n",
      "Epoch 28/50\n",
      "1800/1800 [==============================] - 8s 4ms/step - loss: 0.1879 - accuracy: 0.9140 - val_loss: 0.1887 - val_accuracy: 0.9156\n",
      "Epoch 29/50\n",
      "1800/1800 [==============================] - 9s 5ms/step - loss: 0.1879 - accuracy: 0.9152 - val_loss: 0.1861 - val_accuracy: 0.9156\n",
      "Epoch 30/50\n",
      "1800/1800 [==============================] - 9s 5ms/step - loss: 0.1867 - accuracy: 0.9154 - val_loss: 0.1889 - val_accuracy: 0.9162\n",
      "Epoch 31/50\n",
      "1800/1800 [==============================] - 142s 79ms/step - loss: 0.1870 - accuracy: 0.9159 - val_loss: 0.1855 - val_accuracy: 0.9168\n",
      "Epoch 32/50\n",
      "1800/1800 [==============================] - 10s 5ms/step - loss: 0.1864 - accuracy: 0.9151 - val_loss: 0.1866 - val_accuracy: 0.9168\n",
      "Epoch 33/50\n",
      "1800/1800 [==============================] - 8s 4ms/step - loss: 0.1861 - accuracy: 0.9157 - val_loss: 0.1843 - val_accuracy: 0.9153\n",
      "Epoch 34/50\n",
      "1800/1800 [==============================] - 8s 4ms/step - loss: 0.1866 - accuracy: 0.9148 - val_loss: 0.1863 - val_accuracy: 0.9153\n",
      "Epoch 35/50\n",
      "1800/1800 [==============================] - 8s 4ms/step - loss: 0.1857 - accuracy: 0.9159 - val_loss: 0.1851 - val_accuracy: 0.9156\n",
      "Epoch 36/50\n",
      "1800/1800 [==============================] - 8s 4ms/step - loss: 0.1865 - accuracy: 0.9158 - val_loss: 0.1836 - val_accuracy: 0.9179\n",
      "Epoch 37/50\n",
      "1800/1800 [==============================] - 8s 4ms/step - loss: 0.1852 - accuracy: 0.9159 - val_loss: 0.1852 - val_accuracy: 0.9169\n",
      "Epoch 38/50\n",
      "1800/1800 [==============================] - 8s 4ms/step - loss: 0.1849 - accuracy: 0.9154 - val_loss: 0.1861 - val_accuracy: 0.9174\n",
      "Epoch 39/50\n",
      "1800/1800 [==============================] - 8s 4ms/step - loss: 0.1850 - accuracy: 0.9162 - val_loss: 0.1851 - val_accuracy: 0.9167\n",
      "Epoch 40/50\n",
      "1800/1800 [==============================] - 8s 4ms/step - loss: 0.1849 - accuracy: 0.9153 - val_loss: 0.1858 - val_accuracy: 0.9175\n",
      "Epoch 41/50\n",
      "1800/1800 [==============================] - 8s 4ms/step - loss: 0.1853 - accuracy: 0.9166 - val_loss: 0.1854 - val_accuracy: 0.9168\n",
      "Epoch 42/50\n",
      "1800/1800 [==============================] - 8s 4ms/step - loss: 0.1847 - accuracy: 0.9168 - val_loss: 0.1873 - val_accuracy: 0.9161\n",
      "Epoch 43/50\n",
      "1800/1800 [==============================] - 8s 4ms/step - loss: 0.1846 - accuracy: 0.9157 - val_loss: 0.1837 - val_accuracy: 0.9174\n",
      "Epoch 44/50\n",
      "1800/1800 [==============================] - 8s 4ms/step - loss: 0.1845 - accuracy: 0.9170 - val_loss: 0.1842 - val_accuracy: 0.9181\n",
      "Epoch 45/50\n",
      "1800/1800 [==============================] - 8s 4ms/step - loss: 0.1845 - accuracy: 0.9163 - val_loss: 0.1854 - val_accuracy: 0.9161\n",
      "Epoch 46/50\n",
      "1800/1800 [==============================] - 8s 4ms/step - loss: 0.1840 - accuracy: 0.9174 - val_loss: 0.1843 - val_accuracy: 0.9179\n"
     ]
    }
   ],
   "source": [
    "history = model.fit(\n",
    "    X_train, y_train,\n",
    "    epochs=50,\n",
    "    batch_size=16,\n",
    "    validation_split=0.2,\n",
    "    callbacks=[early_stopping],\n",
    "    verbose=1\n",
    ")"
   ]
  },
  {
   "cell_type": "markdown",
   "id": "73d765bc",
   "metadata": {},
   "source": [
    "Evaluation of the trained model"
   ]
  },
  {
   "cell_type": "code",
   "execution_count": 12,
   "id": "91275de0",
   "metadata": {},
   "outputs": [
    {
     "name": "stdout",
     "output_type": "stream",
     "text": [
      "1125/1125 [==============================] - 4s 3ms/step - loss: 0.1760 - accuracy: 0.9214\n",
      "Training Loss: 0.17595331370830536\n",
      "Training Accuracy: 0.9214444160461426\n"
     ]
    }
   ],
   "source": [
    "# Evaluate on training data\n",
    "train_loss, train_accuracy = model.evaluate(X_train, y_train)\n",
    "print(f\"Training Loss: {train_loss}\")\n",
    "print(f\"Training Accuracy: {train_accuracy}\")"
   ]
  },
  {
   "cell_type": "code",
   "execution_count": 13,
   "id": "deaa3687",
   "metadata": {},
   "outputs": [
    {
     "name": "stdout",
     "output_type": "stream",
     "text": [
      "282/282 [==============================] - 1s 3ms/step - loss: 0.1892 - accuracy: 0.9137\n",
      "Test Loss: 0.1891675442457199\n",
      "Test Accuracy: 0.9136666655540466\n"
     ]
    }
   ],
   "source": [
    "# Evaluate on test data\n",
    "loss, accuracy = model.evaluate(X_test, y_test)\n",
    "print(f\"Test Loss: {loss}\")\n",
    "print(f\"Test Accuracy: {accuracy}\")"
   ]
  },
  {
   "cell_type": "markdown",
   "id": "62863850",
   "metadata": {},
   "source": [
    "Predictions"
   ]
  },
  {
   "cell_type": "code",
   "execution_count": 14,
   "id": "6589ecc3",
   "metadata": {},
   "outputs": [
    {
     "name": "stdout",
     "output_type": "stream",
     "text": [
      "282/282 [==============================] - 1s 3ms/step\n",
      "Sample 1: Predicted Class = 0, Actual Class = 0\n",
      "Sample 2: Predicted Class = 0, Actual Class = 0\n",
      "Sample 3: Predicted Class = 1, Actual Class = 1\n",
      "Sample 4: Predicted Class = 0, Actual Class = 0\n",
      "Sample 5: Predicted Class = 1, Actual Class = 1\n",
      "Sample 6: Predicted Class = 0, Actual Class = 0\n",
      "Sample 7: Predicted Class = 0, Actual Class = 0\n",
      "Sample 8: Predicted Class = 1, Actual Class = 1\n",
      "Sample 9: Predicted Class = 0, Actual Class = 1\n",
      "Sample 10: Predicted Class = 0, Actual Class = 0\n"
     ]
    }
   ],
   "source": [
    "# Make predictions on the test set\n",
    "y_pred = model.predict(X_test)\n",
    "\n",
    "# Convert probabilities to binary class labels (0 or 1)\n",
    "y_pred_classes = (y_pred > 0.5).astype(int)\n",
    "\n",
    "# Display the first few predicted classes and actual classes\n",
    "for i in range(10):  # Display first 10 predictions\n",
    "    print(f\"Sample {i+1}: Predicted Class = {y_pred_classes[i][0]}, Actual Class = {y_test.iloc[i]}\")"
   ]
  },
  {
   "cell_type": "markdown",
   "id": "58f69572",
   "metadata": {},
   "source": [
    "Plot of the accuracies and losses"
   ]
  },
  {
   "cell_type": "code",
   "execution_count": 15,
   "id": "9c0b1388",
   "metadata": {},
   "outputs": [
    {
     "data": {
      "image/png": "[encoded data removed]",
      "text/plain": [
       "<Figure size 1200x500 with 2 Axes>"
      ]
     },
     "metadata": {},
     "output_type": "display_data"
    }
   ],
   "source": [
    "import matplotlib.pyplot as plt\n",
    "\n",
    "# Evaluate on training and testing datasets\n",
    "train_loss, train_accuracy = model.evaluate(X_train, y_train, verbose=0)\n",
    "test_loss, test_accuracy = model.evaluate(X_test, y_test, verbose=0)\n",
    "\n",
    "# Extract training history\n",
    "epochs = range(1, len(history.history['accuracy']) + 1)\n",
    "train_accuracy_history = history.history['accuracy']\n",
    "val_accuracy_history = history.history['val_accuracy']\n",
    "train_loss_history = history.history['loss']\n",
    "val_loss_history = history.history['val_loss']\n",
    "\n",
    "# Plot accuracy for training and testing\n",
    "plt.figure(figsize=(12, 5))\n",
    "plt.subplot(1, 2, 1)\n",
    "plt.plot(epochs, train_accuracy_history, label='Train Accuracy', color='blue')\n",
    "plt.plot(epochs, val_accuracy_history, label='Validation Accuracy', color='orange')\n",
    "plt.axhline(test_accuracy, linestyle='--', color='green', label='Test Accuracy')\n",
    "plt.title('Model Accuracy')\n",
    "plt.xlabel('Epoch')\n",
    "plt.ylabel('Accuracy')\n",
    "plt.legend()\n",
    "\n",
    "# Plot loss for training and testing\n",
    "plt.subplot(1, 2, 2)\n",
    "plt.plot(epochs, train_loss_history, label='Train Loss', color='blue')\n",
    "plt.plot(epochs, val_loss_history, label='Validation Loss', color='orange')\n",
    "plt.axhline(test_loss, linestyle='--', color='green', label='Test Loss')\n",
    "plt.title('Model Loss')\n",
    "plt.xlabel('Epoch')\n",
    "plt.ylabel('Loss')\n",
    "plt.legend()\n",
    "\n",
    "plt.tight_layout()\n",
    "plt.show()"
   ]
  }
 ],
 "metadata": {
  "kernelspec": {
   "display_name": "Python 3 (ipykernel)",
   "language": "python",
   "name": "python3"
  },
  "language_info": {
   "codemirror_mode": {
    "name": "ipython",
    "version": 3
   },
   "file_extension": ".py",
   "mimetype": "text/x-python",
   "name": "python",
   "nbconvert_exporter": "python",
   "pygments_lexer": "ipython3",
   "version": "3.11.5"
  }
 },
 "nbformat": 4,
 "nbformat_minor": 5
}
